{
  "nbformat": 4,
  "nbformat_minor": 0,
  "metadata": {
    "colab": {
      "name": "P1 - Nivelación algoritmos (UBA 2021)",
      "provenance": [],
      "collapsed_sections": []
    },
    "kernelspec": {
      "name": "python3",
      "display_name": "Python 3"
    },
    "language_info": {
      "name": "python"
    }
  },
  "cells": [
    {
      "cell_type": "markdown",
      "metadata": {
        "id": "1FDPXgXQqw2I"
      },
      "source": [
        "# Clase 1 - Curso de nivelación en algoritmos - 2021\n",
        "\n",
        "Google Colab es una herramienta que permite ejecutar de manera interactiva código fuente python, esta herrienta ofrece un ambiente listo para trabajar con muy poco esfuerzo de configuración.\n",
        "para más información sobre Google Colab visite [Welcome to Colaboratory](https://colab.research.google.com/notebooks/intro.ipynb).\n",
        "\n",
        "## Primeros pasos\n",
        "Quiza una de la líneas de código que más veces se ha ejecutado a la largo de la historia es aquella que imprime la frase \"Hola mundo\" sin importar el sistema operativo ni el lenguaje de programación:"
      ]
    },
    {
      "cell_type": "markdown",
      "metadata": {
        "id": "wvdxKZMPXgin"
      },
      "source": [
        "# New Section"
      ]
    },
    {
      "cell_type": "code",
      "metadata": {
        "colab": {
          "base_uri": "https://localhost:8080/"
        },
        "id": "WiqPdoFOu-_x",
        "outputId": "984873fc-2946-4cdc-f64c-4e9135f4acda"
      },
      "source": [
        "print(\"Hola Mundo\")"
      ],
      "execution_count": null,
      "outputs": [
        {
          "output_type": "stream",
          "name": "stdout",
          "text": [
            "Hola Mundo\n"
          ]
        }
      ]
    },
    {
      "cell_type": "markdown",
      "metadata": {
        "id": "VKhkVeaSvQP7"
      },
      "source": [
        "Felicidades y bienvenido al mundo de la programación!\n",
        "Ahora que eres parte de los miles de programadores al rededor del mundo que ejecutan esta línea de código a diario.\n",
        "\n",
        "En nuestro caso, el lenguaje de programación es Python.\n",
        "\n",
        "## Interprete de expresiones\n",
        "El interprete de Python provee una forma rápida de ejecutar comandos y probar código sin necesidad de crear un archivo. Google Colab provee una versión \"más interactiva\" del interprete de Python en la cual se pueden evaluar desde expresiones muy simples como la suma de enteros:"
      ]
    },
    {
      "cell_type": "code",
      "metadata": {
        "id": "0VWJlRG0uMyg"
      },
      "source": [
        "3 + 6"
      ],
      "execution_count": null,
      "outputs": []
    },
    {
      "cell_type": "markdown",
      "metadata": {
        "id": "Izc30Cyfwro1"
      },
      "source": [
        "Podemos incluir números con parte decmal sin problemas:"
      ]
    },
    {
      "cell_type": "code",
      "metadata": {
        "id": "mnGlIj9F81IJ",
        "colab": {
          "base_uri": "https://localhost:8080/"
        },
        "outputId": "ee5fd983-cc9d-4072-ce0c-e5887fe8c41c"
      },
      "source": [
        "7 * 3.1416\n",
        "\n"
      ],
      "execution_count": null,
      "outputs": [
        {
          "output_type": "execute_result",
          "data": {
            "text/plain": [
              "21.9912"
            ]
          },
          "metadata": {},
          "execution_count": 2
        }
      ]
    },
    {
      "cell_type": "markdown",
      "metadata": {
        "id": "tgxv5WJ-Wv3Q"
      },
      "source": [
        "El interprete puede reconocer también palabras o cadenas de caractéres."
      ]
    },
    {
      "cell_type": "code",
      "metadata": {
        "colab": {
          "base_uri": "https://localhost:8080/",
          "height": 35
        },
        "id": "7kXAorBfUwkA",
        "outputId": "aa9eb0c0-6775-4eda-b605-377a2ed34987"
      },
      "source": [
        "\"Hola que tal\"\n"
      ],
      "execution_count": null,
      "outputs": [
        {
          "output_type": "execute_result",
          "data": {
            "application/vnd.google.colaboratory.intrinsic+json": {
              "type": "string"
            },
            "text/plain": [
              "'Hola que tal'"
            ]
          },
          "metadata": {},
          "execution_count": 2
        }
      ]
    },
    {
      "cell_type": "markdown",
      "metadata": {
        "id": "A1Qa-xy6XAbp"
      },
      "source": [
        "Los operadores básicos aplican a la mayoría de tipos de datos (enteros, cadenas, listas, etc.). En cada caso la funcionalidad es diferente:"
      ]
    },
    {
      "cell_type": "code",
      "metadata": {
        "colab": {
          "base_uri": "https://localhost:8080/",
          "height": 36
        },
        "id": "eyvTI8zbU3BF",
        "outputId": "883fa56e-bb2c-4e47-93ce-b0b5f0328c67"
      },
      "source": [
        "\"hola, \" + \"mundo\""
      ],
      "execution_count": null,
      "outputs": [
        {
          "output_type": "execute_result",
          "data": {
            "application/vnd.google.colaboratory.intrinsic+json": {
              "type": "string"
            },
            "text/plain": [
              "'hola, mundo'"
            ]
          },
          "metadata": {},
          "execution_count": 5
        }
      ]
    },
    {
      "cell_type": "code",
      "metadata": {
        "colab": {
          "base_uri": "https://localhost:8080/",
          "height": 36
        },
        "id": "zTg9TfuuXybF",
        "outputId": "4ef08b6d-ce5c-4031-ae0e-4a889e8d961f"
      },
      "source": [
        "\"3\" + \"6\""
      ],
      "execution_count": null,
      "outputs": [
        {
          "output_type": "execute_result",
          "data": {
            "application/vnd.google.colaboratory.intrinsic+json": {
              "type": "string"
            },
            "text/plain": [
              "'36'"
            ]
          },
          "metadata": {},
          "execution_count": 3
        }
      ]
    },
    {
      "cell_type": "markdown",
      "metadata": {
        "id": "ETW4ptu71GHo"
      },
      "source": [
        "## Caracteres de escape\n",
        "Como vimos en el punto anterior, las cadenas de caractéres se identifican por estar contenidas entre comillas dobles, esto nos permite escribir frases e incluso párrafos completos:"
      ]
    },
    {
      "cell_type": "code",
      "metadata": {
        "colab": {
          "base_uri": "https://localhost:8080/",
          "height": 54
        },
        "id": "l8Z417j8U6Gd",
        "outputId": "fb1f8720-6c77-49e9-a3c6-e6ac821c22af"
      },
      "source": [
        "\"Lo recuerdo (yo no tengo derecho a pronunciar ese verbo sagrado, solo un hombre en la tierra tuvo derecho y ese hombre ha muerto) con una oscura pasionaria en la mano, viéndola como nadie la ha visto, aunque la mirara desde el crepúsculo del día hasta el de la noche, toda una vida entera.\""
      ],
      "execution_count": null,
      "outputs": [
        {
          "output_type": "execute_result",
          "data": {
            "application/vnd.google.colaboratory.intrinsic+json": {
              "type": "string"
            },
            "text/plain": [
              "'Lo recuerdo (yo no tengo derecho a pronunciar ese verbo sagrado, solo un hombre en la tierra tuvo derecho y ese hombre ha muerto) con una oscura pasionaria en la mano, viéndola como nadie la ha visto, aunque la mirara desde el crepúsculo del día hasta el de la noche, toda una vida entera.'"
            ]
          },
          "metadata": {},
          "execution_count": 6
        }
      ]
    },
    {
      "cell_type": "markdown",
      "metadata": {
        "id": "ykvI3q7q1dTd"
      },
      "source": [
        "Sin embargo, existen algunos casos en los que esta funcionalidad no nos permite escribir como lo requerimos:"
      ]
    },
    {
      "cell_type": "code",
      "metadata": {
        "colab": {
          "base_uri": "https://localhost:8080/",
          "height": 132
        },
        "id": "xGrgmSIMU91S",
        "outputId": "e1448da4-e62a-43f3-8f16-d68bd71215c6"
      },
      "source": [
        "\"Jorge Luís Borges publicó \"Funes el memorioso\" por primera véz en 1942.\""
      ],
      "execution_count": null,
      "outputs": [
        {
          "output_type": "error",
          "ename": "SyntaxError",
          "evalue": "ignored",
          "traceback": [
            "\u001b[0;36m  File \u001b[0;32m\"<ipython-input-7-0d3326808aef>\"\u001b[0;36m, line \u001b[0;32m1\u001b[0m\n\u001b[0;31m    \"Jorge Luís Borges publicó \"Funes el memorioso\" por pimera véz en 1942.\"\u001b[0m\n\u001b[0m                                    ^\u001b[0m\n\u001b[0;31mSyntaxError\u001b[0m\u001b[0;31m:\u001b[0m invalid syntax\n"
          ]
        }
      ]
    },
    {
      "cell_type": "markdown",
      "metadata": {
        "id": "qnV5KQIgeBaf"
      },
      "source": [
        "Una manera sencilla de lidiar con este problema es combinar comillas dobles y sencillas:"
      ]
    },
    {
      "cell_type": "code",
      "metadata": {
        "colab": {
          "base_uri": "https://localhost:8080/",
          "height": 36
        },
        "id": "fYvgPyBuUrpG",
        "outputId": "19281ca4-fdc0-4816-8f95-1e253454c991"
      },
      "source": [
        "\"Jorge Luís Borges publicó 'Funes el memorioso' por primera véz en 1942.\""
      ],
      "execution_count": null,
      "outputs": [
        {
          "output_type": "execute_result",
          "data": {
            "application/vnd.google.colaboratory.intrinsic+json": {
              "type": "string"
            },
            "text/plain": [
              "\"Jorge Luís Borges publicó 'Funes el memorioso' por pimera véz en 1942.\""
            ]
          },
          "metadata": {},
          "execution_count": 8
        }
      ]
    },
    {
      "cell_type": "markdown",
      "metadata": {
        "id": "BKwaEAWM10Fq"
      },
      "source": [
        "Pero para casos como estos, Python cuenta con caractéres especiales que nos permiten desde incluir estos caractéres especiales como las comillas dobles (\"\"):"
      ]
    },
    {
      "cell_type": "code",
      "metadata": {
        "id": "TXjB5lJc87c-",
        "colab": {
          "base_uri": "https://localhost:8080/",
          "height": 36
        },
        "outputId": "a762b838-f042-49de-ef3f-6b6ed9668d1c"
      },
      "source": [
        "\"Jorge Luís Borges publicó \\\"Funes el memorioso\\\" por primera véz en 1942.\""
      ],
      "execution_count": null,
      "outputs": [
        {
          "output_type": "execute_result",
          "data": {
            "application/vnd.google.colaboratory.intrinsic+json": {
              "type": "string"
            },
            "text/plain": [
              "'Jorge Luís Borges publicó \"Funes el memorioso\" por pimera véz en 1942.'"
            ]
          },
          "metadata": {},
          "execution_count": 9
        }
      ]
    },
    {
      "cell_type": "markdown",
      "metadata": {
        "id": "9UuT-Ha_uTbT"
      },
      "source": [
        "---\n",
        "**Links de interés**\n",
        "* [Python Escape Characters](https://www.w3schools.com/python/gloss_python_escape_characters.asp)"
      ]
    },
    {
      "cell_type": "markdown",
      "metadata": {
        "id": "BqG7rICbhezN"
      },
      "source": [
        "##Variables\n",
        "Las varaibles (en cualquier lenguaje de programación) nos permiten guardar temporalmente valores y construir instrucciones más complejas:"
      ]
    },
    {
      "cell_type": "code",
      "metadata": {
        "colab": {
          "base_uri": "https://localhost:8080/"
        },
        "id": "I-K0l7SgiFT4",
        "outputId": "09644941-8a87-48db-f68d-f855efeba4a1"
      },
      "source": [
        "base = 30\n",
        "altura = 4 * 8\n",
        "base * altura"
      ],
      "execution_count": null,
      "outputs": [
        {
          "output_type": "execute_result",
          "data": {
            "text/plain": [
              "960"
            ]
          },
          "metadata": {},
          "execution_count": 16
        }
      ]
    },
    {
      "cell_type": "code",
      "metadata": {
        "colab": {
          "base_uri": "https://localhost:8080/",
          "height": 36
        },
        "id": "pIrdaozEiYik",
        "outputId": "2cdf0597-78f2-454e-84d2-8af75d250b98"
      },
      "source": [
        "x = \" siete \"\n",
        "'<' + x * 7 + '>'"
      ],
      "execution_count": null,
      "outputs": [
        {
          "output_type": "execute_result",
          "data": {
            "application/vnd.google.colaboratory.intrinsic+json": {
              "type": "string"
            },
            "text/plain": [
              "'< siete  siete  siete  siete  siete  siete  siete >'"
            ]
          },
          "metadata": {},
          "execution_count": 19
        }
      ]
    },
    {
      "cell_type": "markdown",
      "metadata": {
        "id": "aWd3ATahjYQF"
      },
      "source": [
        "Esto nos va a permitir entender mejor el concepto de cadénas de caractéres:"
      ]
    },
    {
      "cell_type": "code",
      "metadata": {
        "colab": {
          "base_uri": "https://localhost:8080/",
          "height": 35
        },
        "id": "jjOe7yAXjFn4",
        "outputId": "09b0a83b-5cd9-4d0e-b151-7d856ee489d3"
      },
      "source": [
        "y = \"Hola Mundo!\"\n",
        "y[0]"
      ],
      "execution_count": null,
      "outputs": [
        {
          "output_type": "execute_result",
          "data": {
            "application/vnd.google.colaboratory.intrinsic+json": {
              "type": "string"
            },
            "text/plain": [
              "'H'"
            ]
          },
          "metadata": {},
          "execution_count": 6
        }
      ]
    },
    {
      "cell_type": "code",
      "metadata": {
        "colab": {
          "base_uri": "https://localhost:8080/",
          "height": 36
        },
        "id": "-dz28uh3jgao",
        "outputId": "b8a92a40-4ecb-454b-c522-e0195250fec8"
      },
      "source": [
        "y[1:7]"
      ],
      "execution_count": null,
      "outputs": [
        {
          "output_type": "execute_result",
          "data": {
            "application/vnd.google.colaboratory.intrinsic+json": {
              "type": "string"
            },
            "text/plain": [
              "'ola Mu'"
            ]
          },
          "metadata": {},
          "execution_count": 23
        }
      ]
    },
    {
      "cell_type": "markdown",
      "metadata": {
        "id": "Z7qYjJRejw9P"
      },
      "source": [
        "y aplicar funciones propias de Python:"
      ]
    },
    {
      "cell_type": "code",
      "metadata": {
        "colab": {
          "base_uri": "https://localhost:8080/"
        },
        "id": "tJUY3pVoj7ge",
        "outputId": "8b3b966c-3bdc-4769-c72b-d78140c2499f"
      },
      "source": [
        "len(y)"
      ],
      "execution_count": null,
      "outputs": [
        {
          "output_type": "execute_result",
          "data": {
            "text/plain": [
              "11"
            ]
          },
          "metadata": {},
          "execution_count": 24
        }
      ]
    },
    {
      "cell_type": "markdown",
      "metadata": {
        "id": "I1iXfezFomNv"
      },
      "source": [
        "###Asignación simultánea\n",
        "En ocasiones necesitamos asignar el mismo valor a un grupo de variables, para esto Python ofrece algunos \"atajos\":"
      ]
    },
    {
      "cell_type": "code",
      "metadata": {
        "colab": {
          "base_uri": "https://localhost:8080/"
        },
        "id": "N-SG0Mn5o8Qr",
        "outputId": "187b4d5e-aae1-4adb-a494-b8a3d539b3c8"
      },
      "source": [
        "x = y = 0\n",
        "x"
      ],
      "execution_count": null,
      "outputs": [
        {
          "output_type": "execute_result",
          "data": {
            "text/plain": [
              "0"
            ]
          },
          "metadata": {},
          "execution_count": 25
        }
      ]
    },
    {
      "cell_type": "code",
      "metadata": {
        "colab": {
          "base_uri": "https://localhost:8080/"
        },
        "id": "WrdAUF8_pGZw",
        "outputId": "86df4b32-eef1-43e7-8a5b-1f534f016f7a"
      },
      "source": [
        "y"
      ],
      "execution_count": null,
      "outputs": [
        {
          "output_type": "execute_result",
          "data": {
            "text/plain": [
              "0"
            ]
          },
          "metadata": {},
          "execution_count": 26
        }
      ]
    },
    {
      "cell_type": "markdown",
      "metadata": {
        "id": "p1SKlevopJ9u"
      },
      "source": [
        "Sin embargo es necesario estar atento al orden con el que se asignan estos valores para evitar confuciones:"
      ]
    },
    {
      "cell_type": "code",
      "metadata": {
        "colab": {
          "base_uri": "https://localhost:8080/"
        },
        "id": "VSsEEqvUpUJn",
        "outputId": "90acdebf-6f91-45cd-b8d3-a1a0e9eb102c"
      },
      "source": [
        "x, y = 3, 4\n",
        "x"
      ],
      "execution_count": null,
      "outputs": [
        {
          "output_type": "execute_result",
          "data": {
            "text/plain": [
              "3"
            ]
          },
          "metadata": {},
          "execution_count": 27
        }
      ]
    },
    {
      "cell_type": "code",
      "metadata": {
        "colab": {
          "base_uri": "https://localhost:8080/"
        },
        "id": "LGO0Xox_peQx",
        "outputId": "cb0f17bb-c7d8-4b73-c670-2ea5bda2867d"
      },
      "source": [
        "y"
      ],
      "execution_count": null,
      "outputs": [
        {
          "output_type": "execute_result",
          "data": {
            "text/plain": [
              "4"
            ]
          },
          "metadata": {},
          "execution_count": 28
        }
      ]
    },
    {
      "cell_type": "markdown",
      "metadata": {
        "id": "jbAFT7TnsMWS"
      },
      "source": [
        "en este caso la asignación se hace por posición, es decir que a la variable \"x\" le corresponde el primer valor (3) por estar ubicado en la primera posición y mientras que la variable \"y\" tomará el segundo valor."
      ]
    },
    {
      "cell_type": "markdown",
      "metadata": {
        "id": "wK2YnP1Ep0TJ"
      },
      "source": [
        "###Tipado dinámico\n",
        "Como vimos en los ejemplos anteriores, las variables pueden contener cualquier valor, incluso es posible asignar un entero y luego una cadena de caractéres a la misma variable sin problemas.\n",
        "Python asigna el tipo a la variable según el valor que le asignemos, para verificar esto vamos a utilizar algunas funciones propias del lenguaje:"
      ]
    },
    {
      "cell_type": "code",
      "metadata": {
        "colab": {
          "base_uri": "https://localhost:8080/"
        },
        "id": "ybhGZ2EZqqIA",
        "outputId": "1525402f-5122-4eb2-8144-194366d7f282"
      },
      "source": [
        "x = 10\n",
        "type(x)"
      ],
      "execution_count": null,
      "outputs": [
        {
          "output_type": "execute_result",
          "data": {
            "text/plain": [
              "int"
            ]
          },
          "metadata": {},
          "execution_count": 9
        }
      ]
    },
    {
      "cell_type": "code",
      "metadata": {
        "colab": {
          "base_uri": "https://localhost:8080/"
        },
        "id": "i594R8Maqvug",
        "outputId": "e1b49f18-16d3-4e2a-d9a8-0e5fd7e08a33"
      },
      "source": [
        "x = \"Hola Mundo\"\n",
        "type(x)"
      ],
      "execution_count": null,
      "outputs": [
        {
          "output_type": "execute_result",
          "data": {
            "text/plain": [
              "str"
            ]
          },
          "metadata": {},
          "execution_count": 31
        }
      ]
    },
    {
      "cell_type": "code",
      "metadata": {
        "colab": {
          "base_uri": "https://localhost:8080/"
        },
        "id": "Urs4BzjDq6rT",
        "outputId": "017c9d9b-0653-4f47-8f96-86ddfeb7dbb2"
      },
      "source": [
        "x = 3.14159265358979\n",
        "type(x)"
      ],
      "execution_count": null,
      "outputs": [
        {
          "output_type": "execute_result",
          "data": {
            "text/plain": [
              "float"
            ]
          },
          "metadata": {},
          "execution_count": 33
        }
      ]
    },
    {
      "cell_type": "code",
      "metadata": {
        "colab": {
          "base_uri": "https://localhost:8080/"
        },
        "id": "G-DJfzHRrT0R",
        "outputId": "99cbaecc-ef97-42e1-f837-2a733f445780"
      },
      "source": [
        "x = ['Hugo', 'Paco', 'Luis']\n",
        "type(x)"
      ],
      "execution_count": null,
      "outputs": [
        {
          "output_type": "execute_result",
          "data": {
            "text/plain": [
              "list"
            ]
          },
          "metadata": {},
          "execution_count": 35
        }
      ]
    },
    {
      "cell_type": "markdown",
      "metadata": {
        "id": "yoMZuEb9uGey"
      },
      "source": [
        "### Listas\n",
        "Las listas son un tipo especial de variables que permiten guardar diferentes valores en una estructura que los mantiene agrupados, una de sus principales ventajas es que puede almacenar diferentes tipos de datos en la misma estructura:"
      ]
    },
    {
      "cell_type": "code",
      "metadata": {
        "colab": {
          "base_uri": "https://localhost:8080/"
        },
        "id": "pRDBrA0OvLDa",
        "outputId": "3a7b5299-889e-4a14-878f-2b64e18e56a3"
      },
      "source": [
        "milista = [\"tomate\" , \"cebolla\", \"palta\", 12, 45.32, [1, 2, 3, \"a\", \"b\", \"c\"]]\n",
        "milista"
      ],
      "execution_count": null,
      "outputs": [
        {
          "output_type": "execute_result",
          "data": {
            "text/plain": [
              "['tomate', 'cebolla', 'palta', 12, 45.32, [1, 2, 3, 'a', 'b', 'c']]"
            ]
          },
          "metadata": {},
          "execution_count": 2
        }
      ]
    },
    {
      "cell_type": "code",
      "metadata": {
        "colab": {
          "base_uri": "https://localhost:8080/"
        },
        "id": "29PiXyvavopg",
        "outputId": "b8cf4735-25bc-4cd9-b437-120a9284a688"
      },
      "source": [
        "type(milista)"
      ],
      "execution_count": null,
      "outputs": [
        {
          "output_type": "execute_result",
          "data": {
            "text/plain": [
              "list"
            ]
          },
          "metadata": {},
          "execution_count": 38
        }
      ]
    },
    {
      "cell_type": "markdown",
      "metadata": {
        "id": "_ZmJtnCqvsF9"
      },
      "source": [
        "y permite acceder a cualquiera de sus elementos con solo conocer su posición: "
      ]
    },
    {
      "cell_type": "code",
      "metadata": {
        "colab": {
          "base_uri": "https://localhost:8080/",
          "height": 36
        },
        "id": "MU0Cyif4v7PF",
        "outputId": "6359585f-b887-4f43-d289-8a90304e445e"
      },
      "source": [
        "milista[2]"
      ],
      "execution_count": null,
      "outputs": [
        {
          "output_type": "execute_result",
          "data": {
            "application/vnd.google.colaboratory.intrinsic+json": {
              "type": "string"
            },
            "text/plain": [
              "'palta'"
            ]
          },
          "metadata": {},
          "execution_count": 40
        }
      ]
    },
    {
      "cell_type": "code",
      "metadata": {
        "colab": {
          "base_uri": "https://localhost:8080/"
        },
        "id": "klvD8OZZwCRG",
        "outputId": "b73443b0-956e-415d-c919-0343d8e877d3"
      },
      "source": [
        "type(milista[2])"
      ],
      "execution_count": null,
      "outputs": [
        {
          "output_type": "execute_result",
          "data": {
            "text/plain": [
              "str"
            ]
          },
          "metadata": {},
          "execution_count": 41
        }
      ]
    },
    {
      "cell_type": "code",
      "metadata": {
        "colab": {
          "base_uri": "https://localhost:8080/"
        },
        "id": "DoId5vj9vrQM",
        "outputId": "bd139fc6-f96a-4942-ef76-f8d50a6cbc77"
      },
      "source": [
        "milista[4]"
      ],
      "execution_count": null,
      "outputs": [
        {
          "output_type": "execute_result",
          "data": {
            "text/plain": [
              "45.32"
            ]
          },
          "metadata": {},
          "execution_count": 42
        }
      ]
    },
    {
      "cell_type": "code",
      "metadata": {
        "colab": {
          "base_uri": "https://localhost:8080/"
        },
        "id": "spa9MzTKwMAj",
        "outputId": "345c00bd-16cd-45f9-e9e3-94e6759b15ee"
      },
      "source": [
        "type(milista[4])"
      ],
      "execution_count": null,
      "outputs": [
        {
          "output_type": "execute_result",
          "data": {
            "text/plain": [
              "float"
            ]
          },
          "metadata": {},
          "execution_count": 43
        }
      ]
    },
    {
      "cell_type": "code",
      "metadata": {
        "colab": {
          "base_uri": "https://localhost:8080/"
        },
        "id": "xUkGGNDrwLAY",
        "outputId": "4ccf3e98-cd1d-4c5b-ce45-67568e4f5ab2"
      },
      "source": [
        "milista[5]"
      ],
      "execution_count": null,
      "outputs": [
        {
          "output_type": "execute_result",
          "data": {
            "text/plain": [
              "[1, 2, 3, 'a', 'b', 'c']"
            ]
          },
          "metadata": {},
          "execution_count": 45
        }
      ]
    },
    {
      "cell_type": "code",
      "metadata": {
        "id": "YIiQ7ycCwXu0"
      },
      "source": [
        "type(milista[5])"
      ],
      "execution_count": null,
      "outputs": []
    },
    {
      "cell_type": "code",
      "metadata": {
        "colab": {
          "base_uri": "https://localhost:8080/"
        },
        "id": "f-hCJuUzwehL",
        "outputId": "5709c592-4a2a-4eca-ace4-7ec4bf10ce3c"
      },
      "source": [
        "milista[5][2]"
      ],
      "execution_count": null,
      "outputs": [
        {
          "output_type": "execute_result",
          "data": {
            "text/plain": [
              "3"
            ]
          },
          "metadata": {},
          "execution_count": 48
        }
      ]
    },
    {
      "cell_type": "code",
      "metadata": {
        "colab": {
          "base_uri": "https://localhost:8080/"
        },
        "id": "RXiC56xDwvys",
        "outputId": "b8c81e75-80c8-4248-a655-f1f14f1fd273"
      },
      "source": [
        "type(milista[5][2])"
      ],
      "execution_count": null,
      "outputs": [
        {
          "output_type": "execute_result",
          "data": {
            "text/plain": [
              "int"
            ]
          },
          "metadata": {},
          "execution_count": 50
        }
      ]
    },
    {
      "cell_type": "markdown",
      "metadata": {
        "id": "gWbReb4Fe1AM"
      },
      "source": [
        "**IMPORTANTE**: En Python (y en la mayoría de lenguajes de programación) las listas inician en la posición cero (0) y terminan en la posición N-1, donde N es la cantidad de elementos que contiene la lista:"
      ]
    },
    {
      "cell_type": "code",
      "metadata": {
        "colab": {
          "base_uri": "https://localhost:8080/",
          "height": 36
        },
        "id": "6FcYw5tvxlW8",
        "outputId": "db36e8ca-62e0-4a2f-d728-5ae11644a9f1"
      },
      "source": [
        "milista[0]"
      ],
      "execution_count": null,
      "outputs": [
        {
          "output_type": "execute_result",
          "data": {
            "application/vnd.google.colaboratory.intrinsic+json": {
              "type": "string"
            },
            "text/plain": [
              "'tomate'"
            ]
          },
          "metadata": {},
          "execution_count": 51
        }
      ]
    },
    {
      "cell_type": "code",
      "metadata": {
        "colab": {
          "base_uri": "https://localhost:8080/"
        },
        "id": "V4v0oUT7xq_i",
        "outputId": "aa4763ff-18a8-4950-c4c8-6c4395c1496e"
      },
      "source": [
        "len(milista)"
      ],
      "execution_count": null,
      "outputs": [
        {
          "output_type": "execute_result",
          "data": {
            "text/plain": [
              "6"
            ]
          },
          "metadata": {},
          "execution_count": 52
        }
      ]
    },
    {
      "cell_type": "code",
      "metadata": {
        "id": "bWz48Hk7xw3J"
      },
      "source": [
        "milista[6]"
      ],
      "execution_count": null,
      "outputs": []
    },
    {
      "cell_type": "markdown",
      "metadata": {
        "id": "PbhFz1usrLsk"
      },
      "source": [
        "[link text](\n",
        ")### Tipos de datos Mutables vs. Inmutables\n",
        "Todas las variables en Python contiene una instancia a un objeto. existen dos tipos de objetos: Mutables e Inmutables. Una vez que un objeto es instanciado se le asigna un identificador único de objeto:"
      ]
    },
    {
      "cell_type": "code",
      "metadata": {
        "colab": {
          "base_uri": "https://localhost:8080/"
        },
        "id": "0_K5dVyYr_gD",
        "outputId": "ef0cff17-317c-4a4b-de4a-b174618a973d"
      },
      "source": [
        "a = 5\n",
        "id(a)"
      ],
      "execution_count": null,
      "outputs": [
        {
          "output_type": "execute_result",
          "data": {
            "text/plain": [
              "93916735789696"
            ]
          },
          "metadata": {},
          "execution_count": 1
        }
      ]
    },
    {
      "cell_type": "code",
      "metadata": {
        "colab": {
          "base_uri": "https://localhost:8080/"
        },
        "id": "w3gH-muBvLXk",
        "outputId": "535f34a0-173b-460e-8414-1384942f5924"
      },
      "source": [
        "b = a\n",
        "id(b)"
      ],
      "execution_count": null,
      "outputs": [
        {
          "output_type": "execute_result",
          "data": {
            "text/plain": [
              "93978680425088"
            ]
          },
          "metadata": {},
          "execution_count": 20
        }
      ]
    },
    {
      "cell_type": "code",
      "metadata": {
        "colab": {
          "base_uri": "https://localhost:8080/"
        },
        "id": "rgKiBVxAvOPo",
        "outputId": "2434ce46-cbf0-4737-9113-1e10f8978079"
      },
      "source": [
        "a = 6\n",
        "id(a)"
      ],
      "execution_count": null,
      "outputs": [
        {
          "output_type": "execute_result",
          "data": {
            "text/plain": [
              "93978680425120"
            ]
          },
          "metadata": {},
          "execution_count": 21
        }
      ]
    },
    {
      "cell_type": "code",
      "metadata": {
        "colab": {
          "base_uri": "https://localhost:8080/"
        },
        "id": "FgDmvYU8vhS1",
        "outputId": "f6e18f59-bb86-4851-a935-ab5d8e96127f"
      },
      "source": [
        "z = 6\n",
        "id(6)"
      ],
      "execution_count": null,
      "outputs": [
        {
          "output_type": "execute_result",
          "data": {
            "text/plain": [
              "93978680425120"
            ]
          },
          "metadata": {},
          "execution_count": 22
        }
      ]
    },
    {
      "cell_type": "markdown",
      "metadata": {
        "id": "I0fs2srDuFsU"
      },
      "source": [
        "---\n",
        "**Links de interés:**\n",
        "* [Mutable Objects vs Immutable Objects in Python](https://realpython.com/lessons/mutable-objects-vs-immutable-objects-python/)"
      ]
    },
    {
      "cell_type": "markdown",
      "metadata": {
        "id": "iuHbs37IyHnp"
      },
      "source": [
        "### Algunas funciones útiles\n",
        "Como vimos antes, Python ofrece una gran variedad de funciones propias que nos permiten interactuar con las variables que definimos, teniendo en cuenta que son muchas y que pueden variar de un tipo de variable a otro, presentamos algunas funciones que nos pueden ayudar a conocer las propiedades de cada varaible: "
      ]
    },
    {
      "cell_type": "code",
      "metadata": {
        "colab": {
          "base_uri": "https://localhost:8080/"
        },
        "id": "XJGuzB5GzKj2",
        "outputId": "8945f4b1-3267-4af2-c587-c98f798944d9"
      },
      "source": [
        "dir(milista)"
      ],
      "execution_count": null,
      "outputs": [
        {
          "output_type": "execute_result",
          "data": {
            "text/plain": [
              "['__add__',\n",
              " '__class__',\n",
              " '__contains__',\n",
              " '__delattr__',\n",
              " '__delitem__',\n",
              " '__dir__',\n",
              " '__doc__',\n",
              " '__eq__',\n",
              " '__format__',\n",
              " '__ge__',\n",
              " '__getattribute__',\n",
              " '__getitem__',\n",
              " '__gt__',\n",
              " '__hash__',\n",
              " '__iadd__',\n",
              " '__imul__',\n",
              " '__init__',\n",
              " '__init_subclass__',\n",
              " '__iter__',\n",
              " '__le__',\n",
              " '__len__',\n",
              " '__lt__',\n",
              " '__mul__',\n",
              " '__ne__',\n",
              " '__new__',\n",
              " '__reduce__',\n",
              " '__reduce_ex__',\n",
              " '__repr__',\n",
              " '__reversed__',\n",
              " '__rmul__',\n",
              " '__setattr__',\n",
              " '__setitem__',\n",
              " '__sizeof__',\n",
              " '__str__',\n",
              " '__subclasshook__',\n",
              " 'append',\n",
              " 'clear',\n",
              " 'copy',\n",
              " 'count',\n",
              " 'extend',\n",
              " 'index',\n",
              " 'insert',\n",
              " 'pop',\n",
              " 'remove',\n",
              " 'reverse',\n",
              " 'sort']"
            ]
          },
          "metadata": {},
          "execution_count": 54
        }
      ]
    },
    {
      "cell_type": "code",
      "metadata": {
        "colab": {
          "base_uri": "https://localhost:8080/"
        },
        "id": "ZEo2JK9fioMr",
        "outputId": "2546d5c0-2986-4a40-d4aa-a71a304b89c4"
      },
      "source": [
        "help(milista)"
      ],
      "execution_count": null,
      "outputs": [
        {
          "output_type": "stream",
          "name": "stdout",
          "text": [
            "Help on list object:\n",
            "\n",
            "class list(object)\n",
            " |  list(iterable=(), /)\n",
            " |  \n",
            " |  Built-in mutable sequence.\n",
            " |  \n",
            " |  If no argument is given, the constructor creates a new empty list.\n",
            " |  The argument must be an iterable if specified.\n",
            " |  \n",
            " |  Methods defined here:\n",
            " |  \n",
            " |  __add__(self, value, /)\n",
            " |      Return self+value.\n",
            " |  \n",
            " |  __contains__(self, key, /)\n",
            " |      Return key in self.\n",
            " |  \n",
            " |  __delitem__(self, key, /)\n",
            " |      Delete self[key].\n",
            " |  \n",
            " |  __eq__(self, value, /)\n",
            " |      Return self==value.\n",
            " |  \n",
            " |  __ge__(self, value, /)\n",
            " |      Return self>=value.\n",
            " |  \n",
            " |  __getattribute__(self, name, /)\n",
            " |      Return getattr(self, name).\n",
            " |  \n",
            " |  __getitem__(...)\n",
            " |      x.__getitem__(y) <==> x[y]\n",
            " |  \n",
            " |  __gt__(self, value, /)\n",
            " |      Return self>value.\n",
            " |  \n",
            " |  __iadd__(self, value, /)\n",
            " |      Implement self+=value.\n",
            " |  \n",
            " |  __imul__(self, value, /)\n",
            " |      Implement self*=value.\n",
            " |  \n",
            " |  __init__(self, /, *args, **kwargs)\n",
            " |      Initialize self.  See help(type(self)) for accurate signature.\n",
            " |  \n",
            " |  __iter__(self, /)\n",
            " |      Implement iter(self).\n",
            " |  \n",
            " |  __le__(self, value, /)\n",
            " |      Return self<=value.\n",
            " |  \n",
            " |  __len__(self, /)\n",
            " |      Return len(self).\n",
            " |  \n",
            " |  __lt__(self, value, /)\n",
            " |      Return self<value.\n",
            " |  \n",
            " |  __mul__(self, value, /)\n",
            " |      Return self*value.\n",
            " |  \n",
            " |  __ne__(self, value, /)\n",
            " |      Return self!=value.\n",
            " |  \n",
            " |  __repr__(self, /)\n",
            " |      Return repr(self).\n",
            " |  \n",
            " |  __reversed__(self, /)\n",
            " |      Return a reverse iterator over the list.\n",
            " |  \n",
            " |  __rmul__(self, value, /)\n",
            " |      Return value*self.\n",
            " |  \n",
            " |  __setitem__(self, key, value, /)\n",
            " |      Set self[key] to value.\n",
            " |  \n",
            " |  __sizeof__(self, /)\n",
            " |      Return the size of the list in memory, in bytes.\n",
            " |  \n",
            " |  append(self, object, /)\n",
            " |      Append object to the end of the list.\n",
            " |  \n",
            " |  clear(self, /)\n",
            " |      Remove all items from list.\n",
            " |  \n",
            " |  copy(self, /)\n",
            " |      Return a shallow copy of the list.\n",
            " |  \n",
            " |  count(self, value, /)\n",
            " |      Return number of occurrences of value.\n",
            " |  \n",
            " |  extend(self, iterable, /)\n",
            " |      Extend list by appending elements from the iterable.\n",
            " |  \n",
            " |  index(self, value, start=0, stop=9223372036854775807, /)\n",
            " |      Return first index of value.\n",
            " |      \n",
            " |      Raises ValueError if the value is not present.\n",
            " |  \n",
            " |  insert(self, index, object, /)\n",
            " |      Insert object before index.\n",
            " |  \n",
            " |  pop(self, index=-1, /)\n",
            " |      Remove and return item at index (default last).\n",
            " |      \n",
            " |      Raises IndexError if list is empty or index is out of range.\n",
            " |  \n",
            " |  remove(self, value, /)\n",
            " |      Remove first occurrence of value.\n",
            " |      \n",
            " |      Raises ValueError if the value is not present.\n",
            " |  \n",
            " |  reverse(self, /)\n",
            " |      Reverse *IN PLACE*.\n",
            " |  \n",
            " |  sort(self, /, *, key=None, reverse=False)\n",
            " |      Stable sort *IN PLACE*.\n",
            " |  \n",
            " |  ----------------------------------------------------------------------\n",
            " |  Static methods defined here:\n",
            " |  \n",
            " |  __new__(*args, **kwargs) from builtins.type\n",
            " |      Create and return a new object.  See help(type) for accurate signature.\n",
            " |  \n",
            " |  ----------------------------------------------------------------------\n",
            " |  Data and other attributes defined here:\n",
            " |  \n",
            " |  __hash__ = None\n",
            "\n"
          ]
        }
      ]
    },
    {
      "cell_type": "code",
      "metadata": {
        "colab": {
          "base_uri": "https://localhost:8080/",
          "height": 185
        },
        "id": "N-bteS2Ji46v",
        "outputId": "01accc13-4b85-406c-bf15-ed91443e7049"
      },
      "source": [
        "milista.insert(16, \"oliva\")\n",
        "milista"
      ],
      "execution_count": null,
      "outputs": [
        {
          "output_type": "error",
          "ename": "NameError",
          "evalue": "ignored",
          "traceback": [
            "\u001b[0;31m---------------------------------------------------------------------------\u001b[0m",
            "\u001b[0;31mNameError\u001b[0m                                 Traceback (most recent call last)",
            "\u001b[0;32m<ipython-input-10-e367d60bd902>\u001b[0m in \u001b[0;36m<module>\u001b[0;34m()\u001b[0m\n\u001b[0;32m----> 1\u001b[0;31m \u001b[0mmilista\u001b[0m\u001b[0;34m.\u001b[0m\u001b[0minsert\u001b[0m\u001b[0;34m(\u001b[0m\u001b[0;36m16\u001b[0m\u001b[0;34m,\u001b[0m \u001b[0;34m\"oliva\"\u001b[0m\u001b[0;34m)\u001b[0m\u001b[0;34m\u001b[0m\u001b[0;34m\u001b[0m\u001b[0m\n\u001b[0m\u001b[1;32m      2\u001b[0m \u001b[0mmilista\u001b[0m\u001b[0;34m\u001b[0m\u001b[0;34m\u001b[0m\u001b[0m\n",
            "\u001b[0;31mNameError\u001b[0m: name 'milista' is not defined"
          ]
        }
      ]
    },
    {
      "cell_type": "code",
      "metadata": {
        "colab": {
          "base_uri": "https://localhost:8080/"
        },
        "id": "BoVa1j6ejtu1",
        "outputId": "a456a049-b96e-42a6-b25f-56d8510a625a"
      },
      "source": [
        "len(milista)"
      ],
      "execution_count": null,
      "outputs": [
        {
          "output_type": "execute_result",
          "data": {
            "text/plain": [
              "9"
            ]
          },
          "metadata": {},
          "execution_count": 15
        }
      ]
    },
    {
      "cell_type": "markdown",
      "metadata": {
        "id": "AYfr7zusfuNx"
      },
      "source": [
        "## Ejemplo: Convertir Fahrenheit a Celsius\n",
        "El siguiente ejercicio aplica algunos de los conceptos revisados anteriormente, consiste en aplicar la siguiente formula a un valor de entrada:\n",
        "\n",
        "C = (5/9)(F-32)\n",
        "\n",
        "Para iniciar, utilizaremos la función básica \"print\" y la manera de agregar comentarios al código:"
      ]
    },
    {
      "cell_type": "code",
      "metadata": {
        "id": "KXfZjeO49CaG",
        "colab": {
          "base_uri": "https://localhost:8080/"
        },
        "outputId": "dd159c70-ced9-4ff5-bf47-e8a982a40a85"
      },
      "source": [
        "# Formula para convertir Farenheit a Celsius\n",
        "print('C = (5/9)(F-32)')"
      ],
      "execution_count": null,
      "outputs": [
        {
          "output_type": "stream",
          "name": "stdout",
          "text": [
            "C = (5/9)(F-32)\n"
          ]
        }
      ]
    },
    {
      "cell_type": "markdown",
      "metadata": {
        "id": "58BahAg1im0N"
      },
      "source": [
        "La función **print** no evalua expresiones, solo permite imprimir resultados por pantalla.\n",
        "El siguiente paso es incluir el uso de variables para almacenar los valores numéricos:"
      ]
    },
    {
      "cell_type": "code",
      "metadata": {
        "colab": {
          "base_uri": "https://localhost:8080/"
        },
        "id": "lB5jtreUgkNY",
        "outputId": "3d34d181-6caa-4716-bb3b-82eb94dc983a"
      },
      "source": [
        "# Formula para convertir Farenheit a Celsius\n",
        "\n",
        "fahr = 80\n",
        "cel = 5//9 * fahr-32\n",
        "print(\"fahr=\", fahr, \" -> cel=\", cel)"
      ],
      "execution_count": null,
      "outputs": [
        {
          "output_type": "stream",
          "name": "stdout",
          "text": [
            "fahr= 80  -> cel= -32\n"
          ]
        }
      ]
    },
    {
      "cell_type": "markdown",
      "metadata": {
        "id": "W2rOco0NmR2D"
      },
      "source": [
        "En este caso utilizamos la función **print** para presentar el resultado de una operación, pero NO es el resultado que esperamos, esto se debe a que utilizamos el operador \"//\" que devuelve la parte entera de la división con redondeo al piso (floor).\n",
        "En un paso siguiente vamos a utilizar el operador correcto:"
      ]
    },
    {
      "cell_type": "code",
      "metadata": {
        "colab": {
          "base_uri": "https://localhost:8080/"
        },
        "id": "F2lX-wxvhOXW",
        "outputId": "996cd03d-232c-46f4-ff26-66885a802839"
      },
      "source": [
        "# Formula para convertir Farenheit a Celsius\n",
        "\n",
        "fahr = 80\n",
        "cel = 5/9 * fahr-32\n",
        "print(\"fahr=\", fahr, \" -> cel=\", cel)"
      ],
      "execution_count": null,
      "outputs": [
        {
          "output_type": "stream",
          "name": "stdout",
          "text": [
            "fahr= 80  -> cel= 12.444444444444443\n"
          ]
        }
      ]
    },
    {
      "cell_type": "markdown",
      "metadata": {
        "id": "B1JO-JhvonmW"
      },
      "source": [
        "Ahora tenemos un resultado diferente pero sigue sin ser correcto, en este caso se debe a la precedencia de los operadores matemáticos. Para controlar el orden en que se deben ejecutar las operaciones es necesario que incluyamos el uso de los paréntesis. "
      ]
    },
    {
      "cell_type": "code",
      "metadata": {
        "colab": {
          "base_uri": "https://localhost:8080/"
        },
        "id": "yDlHsniVuPA0",
        "outputId": "30f0da86-9603-470c-a869-1119e9879c94"
      },
      "source": [
        "# Formula para convertir Farenheit a Celsius\n",
        "\n",
        "fahr = 80\n",
        "cel = (5/9) * (fahr-32)\n",
        "print(\"fahr=\", fahr, \" -> cel=\", cel)"
      ],
      "execution_count": null,
      "outputs": [
        {
          "output_type": "stream",
          "name": "stdout",
          "text": [
            "fahr= 80  -> cel= 26.666666666666668\n"
          ]
        }
      ]
    },
    {
      "cell_type": "markdown",
      "metadata": {
        "id": "OC9DUbG9psg4"
      },
      "source": [
        "Finalmente tenemos el valor correcto pero podemos hacer algo más para presentar el reusltado mejor, en este caso vamos a utilizar otra función básica que provee Python para redondear los valores decimales:"
      ]
    },
    {
      "cell_type": "code",
      "metadata": {
        "colab": {
          "base_uri": "https://localhost:8080/"
        },
        "id": "bo-_hSiJqC5k",
        "outputId": "c8fb23aa-1dbf-4591-e85b-a4c5e6ef075e"
      },
      "source": [
        "# Formula para convertir Farenheit a Celsius\n",
        "\n",
        "fahr = 80\n",
        "cel = (5/9) * (fahr-32)\n",
        "print(\"fahr=\", fahr, \" -> cel=\", round(cel, 2))"
      ],
      "execution_count": null,
      "outputs": [
        {
          "output_type": "stream",
          "name": "stdout",
          "text": [
            "fahr= 80  -> cel= 26.67\n"
          ]
        }
      ]
    },
    {
      "cell_type": "markdown",
      "metadata": {
        "id": "epovLrTur3Yf"
      },
      "source": [
        "## Ejercicio\n",
        "Escribir un programa en Python que convierta millas a kilometros.\n",
        "\n",
        "## Ejercicio\n",
        "Crear una lista de python con strings, eneros y floats\n",
        "\n",
        "## Ejercicio\n",
        "Escribir un programa que eleve al cuadrado un numero de entrada a (por ejemplo a=5) le sume b (por ejemplo b=8)\n",
        "\n",
        "## Ejercicio\n",
        "Hacer 3 listas:\n",
        "una lista con 4 valores posibles de a, \n",
        "otra con 4 posibles valores de b, \n",
        "otra con el resultado del ejercicio anterior evaluados en cada valor (a,b)"
      ]
    },
    {
      "cell_type": "code",
      "metadata": {
        "colab": {
          "base_uri": "https://localhost:8080/"
        },
        "id": "1RaXlaMi2D3x",
        "outputId": "070aa561-8ce4-49b1-bc40-ba7507ce9da2"
      },
      "source": [
        "Millas = 2342\n",
        "Km=(Millas*1.60934)\n",
        "print(\"Millas=\", Millas, \" -> Km=\", round(Km, 4))"
      ],
      "execution_count": null,
      "outputs": [
        {
          "output_type": "stream",
          "name": "stdout",
          "text": [
            "Millas= 2342  -> Km= 3769.0743\n"
          ]
        }
      ]
    },
    {
      "cell_type": "code",
      "metadata": {
        "id": "F3N7t7NXHB7P",
        "colab": {
          "base_uri": "https://localhost:8080/"
        },
        "outputId": "a52d487b-9235-453e-da53-464c4687cbbd"
      },
      "source": [
        "a=[2,'hola', 3.23]\n",
        "a.append(3)\n",
        "a.insert(1,1)\n",
        "print(a)\n",
        "print(type(a))"
      ],
      "execution_count": null,
      "outputs": [
        {
          "output_type": "stream",
          "name": "stdout",
          "text": [
            "[2, 1, 'hola', 3.23, 3]\n",
            "<class 'list'>\n"
          ]
        }
      ]
    },
    {
      "cell_type": "code",
      "metadata": {
        "colab": {
          "base_uri": "https://localhost:8080/"
        },
        "id": "BkFlC9OI6aYk",
        "outputId": "d2c6a7e4-aabe-4c9b-b6a2-ec35215baec9"
      },
      "source": [
        "a=5\n",
        "b=8\n",
        "n=a**2\n",
        "n=n+b\n",
        "print(n)"
      ],
      "execution_count": null,
      "outputs": [
        {
          "output_type": "stream",
          "name": "stdout",
          "text": [
            "33\n"
          ]
        }
      ]
    },
    {
      "cell_type": "code",
      "metadata": {
        "colab": {
          "base_uri": "https://localhost:8080/",
          "height": 129
        },
        "id": "_tY6Dijc7BbP",
        "outputId": "82f92bd6-b06a-4d62-a6f9-fcdeafb045a5"
      },
      "source": [
        "a=list(range(0,4))\n",
        "b=list(range(4,8))\n",
        "print(a, b)\n",
        "\n",
        "c=[x**2+y for x,y in a,b]\n",
        "print(c)"
      ],
      "execution_count": null,
      "outputs": [
        {
          "output_type": "error",
          "ename": "SyntaxError",
          "evalue": "ignored",
          "traceback": [
            "\u001b[0;36m  File \u001b[0;32m\"<ipython-input-33-0ff7c53e26a6>\"\u001b[0;36m, line \u001b[0;32m5\u001b[0m\n\u001b[0;31m    c=[x**2+y for x,y in a,b]\u001b[0m\n\u001b[0m                          ^\u001b[0m\n\u001b[0;31mSyntaxError\u001b[0m\u001b[0;31m:\u001b[0m invalid syntax\n"
          ]
        }
      ]
    }
  ]
}